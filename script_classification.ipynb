{
  "nbformat": 4,
  "nbformat_minor": 0,
  "metadata": {
    "colab": {
      "provenance": [],
      "authorship_tag": "ABX9TyMqy71CSXW64hJblFpE4EsV",
      "include_colab_link": true
    },
    "kernelspec": {
      "name": "python3",
      "display_name": "Python 3"
    },
    "language_info": {
      "name": "python"
    }
  },
  "cells": [
    {
      "cell_type": "markdown",
      "metadata": {
        "id": "view-in-github",
        "colab_type": "text"
      },
      "source": [
        "<a href=\"https://colab.research.google.com/github/UlianaSalimova/VK_DS_2024/blob/main/script_classification.ipynb\" target=\"_parent\"><img src=\"https://colab.research.google.com/assets/colab-badge.svg\" alt=\"Open In Colab\"/></a>"
      ]
    },
    {
      "cell_type": "markdown",
      "source": [
        "Импорт необходимых библиотек"
      ],
      "metadata": {
        "id": "DFlv69d0tE2P"
      }
    },
    {
      "cell_type": "code",
      "execution_count": 17,
      "metadata": {
        "id": "UlyaBD8VoF6j"
      },
      "outputs": [],
      "source": [
        "import pandas as pd\n",
        "import joblib\n",
        "import os\n",
        "import numpy as np"
      ]
    },
    {
      "cell_type": "markdown",
      "source": [
        "Директории и пути до файлов"
      ],
      "metadata": {
        "id": "1ArR6Pzvt2er"
      }
    },
    {
      "cell_type": "code",
      "source": [
        "current_dir = os.getcwd()\n",
        "test_filtered_path = os.path.join(current_dir, 'final_features_test.csv')\n",
        "train_filtered_path = os.path.join(current_dir, 'final_features_train.csv')\n",
        "test_before_path = os.path.join(current_dir, 'test.parquet')\n",
        "lgbm_model_path = os.path.join(current_dir, 'my_model.pkl')\n",
        "submission_path = os.path.join(current_dir, 'submission.csv')"
      ],
      "metadata": {
        "id": "zv2YSYiMoV_3"
      },
      "execution_count": 28,
      "outputs": []
    },
    {
      "cell_type": "markdown",
      "source": [
        "Загрузка обученной модели, извлеченных признаков, тестовых данных (для id)"
      ],
      "metadata": {
        "id": "727IyHdht5Qd"
      }
    },
    {
      "cell_type": "code",
      "source": [
        "test_filtered= pd.read_csv(test_filtered_path)"
      ],
      "metadata": {
        "id": "Mr3QsiPkojvO"
      },
      "execution_count": 12,
      "outputs": []
    },
    {
      "cell_type": "code",
      "source": [
        "train_filtered= pd.read_csv(train_filtered_path)\n",
        "train_filtered.drop(['label'], axis=1, inplace=True)"
      ],
      "metadata": {
        "id": "2DI_Si-zq6pA"
      },
      "execution_count": 19,
      "outputs": []
    },
    {
      "cell_type": "code",
      "source": [
        "lgbm_model = joblib.load(lgbm_model_path)"
      ],
      "metadata": {
        "id": "AhZ-96BNonKm"
      },
      "execution_count": 23,
      "outputs": []
    },
    {
      "cell_type": "code",
      "source": [
        "test_before = pd.read_parquet(test_before_path)"
      ],
      "metadata": {
        "id": "i2UafoizuepS"
      },
      "execution_count": 29,
      "outputs": []
    },
    {
      "cell_type": "markdown",
      "source": [
        "Построение прогноза"
      ],
      "metadata": {
        "id": "CjZm55c9t98r"
      }
    },
    {
      "cell_type": "code",
      "source": [
        "Xtest = test_filtered\n",
        "Xtest = Xtest[train_filtered.columns]\n",
        "yhat_test_proba_lgbm = lgbm_model.predict_proba(Xtest)\n",
        "yhat_test_proba_lgbm"
      ],
      "metadata": {
        "colab": {
          "base_uri": "https://localhost:8080/"
        },
        "id": "uegl-ADUovUa",
        "outputId": "eb8a69e9-f661-4599-9023-519b1ebd797a"
      },
      "execution_count": 30,
      "outputs": [
        {
          "output_type": "execute_result",
          "data": {
            "text/plain": [
              "array([[0.64100882, 0.35899118],\n",
              "       [0.93415757, 0.06584243],\n",
              "       [0.85556262, 0.14443738],\n",
              "       ...,\n",
              "       [0.89833888, 0.10166112],\n",
              "       [0.60662313, 0.39337687],\n",
              "       [0.85194218, 0.14805782]])"
            ]
          },
          "metadata": {},
          "execution_count": 30
        }
      ]
    },
    {
      "cell_type": "markdown",
      "source": [
        "Сохранение результата в файл"
      ],
      "metadata": {
        "id": "EOtR5xTIt_4u"
      }
    },
    {
      "cell_type": "code",
      "source": [
        "ids = test_before['id'].values\n",
        "proba = yhat_test_proba_lgbm[:, 1]\n",
        "\n",
        "submission_df = pd.DataFrame({\n",
        "    'id': ids,\n",
        "    'score': proba\n",
        "})\n",
        "\n",
        "submission_df.to_csv(submission_path, index=False)"
      ],
      "metadata": {
        "id": "S0n9DmL-tLWB"
      },
      "execution_count": 31,
      "outputs": []
    }
  ]
}